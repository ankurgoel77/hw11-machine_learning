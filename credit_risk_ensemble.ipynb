{
 "cells": [
  {
   "cell_type": "markdown",
   "metadata": {},
   "source": [
    "# Ensemble Learning\n",
    "\n",
    "## Initial Imports"
   ]
  },
  {
   "cell_type": "code",
   "execution_count": 61,
   "metadata": {},
   "outputs": [],
   "source": [
    "import warnings\n",
    "warnings.filterwarnings('ignore')"
   ]
  },
  {
   "cell_type": "code",
   "execution_count": 62,
   "metadata": {},
   "outputs": [],
   "source": [
    "import numpy as np\n",
    "import pandas as pd\n",
    "from pathlib import Path\n",
    "from collections import Counter"
   ]
  },
  {
   "cell_type": "code",
   "execution_count": 63,
   "metadata": {},
   "outputs": [],
   "source": [
    "from sklearn.metrics import balanced_accuracy_score\n",
    "from sklearn.metrics import confusion_matrix\n",
    "from imblearn.metrics import classification_report_imbalanced"
   ]
  },
  {
   "cell_type": "markdown",
   "metadata": {},
   "source": [
    "## Read the CSV and Perform Basic Data Cleaning"
   ]
  },
  {
   "cell_type": "code",
   "execution_count": 64,
   "metadata": {},
   "outputs": [
    {
     "data": {
      "text/html": "<div>\n<style scoped>\n    .dataframe tbody tr th:only-of-type {\n        vertical-align: middle;\n    }\n\n    .dataframe tbody tr th {\n        vertical-align: top;\n    }\n\n    .dataframe thead th {\n        text-align: right;\n    }\n</style>\n<table border=\"1\" class=\"dataframe\">\n  <thead>\n    <tr style=\"text-align: right;\">\n      <th></th>\n      <th>loan_amnt</th>\n      <th>int_rate</th>\n      <th>installment</th>\n      <th>home_ownership</th>\n      <th>annual_inc</th>\n      <th>verification_status</th>\n      <th>issue_d</th>\n      <th>loan_status</th>\n      <th>pymnt_plan</th>\n      <th>dti</th>\n      <th>...</th>\n      <th>pct_tl_nvr_dlq</th>\n      <th>percent_bc_gt_75</th>\n      <th>pub_rec_bankruptcies</th>\n      <th>tax_liens</th>\n      <th>tot_hi_cred_lim</th>\n      <th>total_bal_ex_mort</th>\n      <th>total_bc_limit</th>\n      <th>total_il_high_credit_limit</th>\n      <th>hardship_flag</th>\n      <th>debt_settlement_flag</th>\n    </tr>\n  </thead>\n  <tbody>\n    <tr>\n      <th>0</th>\n      <td>10500.0</td>\n      <td>0.1719</td>\n      <td>375.35</td>\n      <td>RENT</td>\n      <td>66000.0</td>\n      <td>Source Verified</td>\n      <td>Mar-2019</td>\n      <td>low_risk</td>\n      <td>n</td>\n      <td>27.24</td>\n      <td>...</td>\n      <td>85.7</td>\n      <td>100.0</td>\n      <td>0.0</td>\n      <td>0.0</td>\n      <td>65687.0</td>\n      <td>38199.0</td>\n      <td>2000.0</td>\n      <td>61987.0</td>\n      <td>N</td>\n      <td>N</td>\n    </tr>\n    <tr>\n      <th>1</th>\n      <td>25000.0</td>\n      <td>0.2000</td>\n      <td>929.09</td>\n      <td>MORTGAGE</td>\n      <td>105000.0</td>\n      <td>Verified</td>\n      <td>Mar-2019</td>\n      <td>low_risk</td>\n      <td>n</td>\n      <td>20.23</td>\n      <td>...</td>\n      <td>91.2</td>\n      <td>50.0</td>\n      <td>1.0</td>\n      <td>0.0</td>\n      <td>271427.0</td>\n      <td>60641.0</td>\n      <td>41200.0</td>\n      <td>49197.0</td>\n      <td>N</td>\n      <td>N</td>\n    </tr>\n    <tr>\n      <th>2</th>\n      <td>20000.0</td>\n      <td>0.2000</td>\n      <td>529.88</td>\n      <td>MORTGAGE</td>\n      <td>56000.0</td>\n      <td>Verified</td>\n      <td>Mar-2019</td>\n      <td>low_risk</td>\n      <td>n</td>\n      <td>24.26</td>\n      <td>...</td>\n      <td>66.7</td>\n      <td>50.0</td>\n      <td>0.0</td>\n      <td>0.0</td>\n      <td>60644.0</td>\n      <td>45684.0</td>\n      <td>7500.0</td>\n      <td>43144.0</td>\n      <td>N</td>\n      <td>N</td>\n    </tr>\n    <tr>\n      <th>3</th>\n      <td>10000.0</td>\n      <td>0.1640</td>\n      <td>353.55</td>\n      <td>RENT</td>\n      <td>92000.0</td>\n      <td>Verified</td>\n      <td>Mar-2019</td>\n      <td>low_risk</td>\n      <td>n</td>\n      <td>31.44</td>\n      <td>...</td>\n      <td>100.0</td>\n      <td>50.0</td>\n      <td>1.0</td>\n      <td>0.0</td>\n      <td>99506.0</td>\n      <td>68784.0</td>\n      <td>19700.0</td>\n      <td>76506.0</td>\n      <td>N</td>\n      <td>N</td>\n    </tr>\n    <tr>\n      <th>4</th>\n      <td>22000.0</td>\n      <td>0.1474</td>\n      <td>520.39</td>\n      <td>MORTGAGE</td>\n      <td>52000.0</td>\n      <td>Not Verified</td>\n      <td>Mar-2019</td>\n      <td>low_risk</td>\n      <td>n</td>\n      <td>18.76</td>\n      <td>...</td>\n      <td>100.0</td>\n      <td>0.0</td>\n      <td>0.0</td>\n      <td>0.0</td>\n      <td>219750.0</td>\n      <td>25919.0</td>\n      <td>27600.0</td>\n      <td>20000.0</td>\n      <td>N</td>\n      <td>N</td>\n    </tr>\n  </tbody>\n</table>\n<p>5 rows × 86 columns</p>\n</div>",
      "text/plain": "   loan_amnt  int_rate  installment home_ownership  annual_inc  \\\n0    10500.0    0.1719       375.35           RENT     66000.0   \n1    25000.0    0.2000       929.09       MORTGAGE    105000.0   \n2    20000.0    0.2000       529.88       MORTGAGE     56000.0   \n3    10000.0    0.1640       353.55           RENT     92000.0   \n4    22000.0    0.1474       520.39       MORTGAGE     52000.0   \n\n  verification_status   issue_d loan_status pymnt_plan    dti  ...  \\\n0     Source Verified  Mar-2019    low_risk          n  27.24  ...   \n1            Verified  Mar-2019    low_risk          n  20.23  ...   \n2            Verified  Mar-2019    low_risk          n  24.26  ...   \n3            Verified  Mar-2019    low_risk          n  31.44  ...   \n4        Not Verified  Mar-2019    low_risk          n  18.76  ...   \n\n   pct_tl_nvr_dlq  percent_bc_gt_75  pub_rec_bankruptcies  tax_liens  \\\n0            85.7             100.0                   0.0        0.0   \n1            91.2              50.0                   1.0        0.0   \n2            66.7              50.0                   0.0        0.0   \n3           100.0              50.0                   1.0        0.0   \n4           100.0               0.0                   0.0        0.0   \n\n   tot_hi_cred_lim  total_bal_ex_mort total_bc_limit  \\\n0          65687.0            38199.0         2000.0   \n1         271427.0            60641.0        41200.0   \n2          60644.0            45684.0         7500.0   \n3          99506.0            68784.0        19700.0   \n4         219750.0            25919.0        27600.0   \n\n   total_il_high_credit_limit  hardship_flag  debt_settlement_flag  \n0                     61987.0              N                     N  \n1                     49197.0              N                     N  \n2                     43144.0              N                     N  \n3                     76506.0              N                     N  \n4                     20000.0              N                     N  \n\n[5 rows x 86 columns]"
     },
     "execution_count": 64,
     "metadata": {},
     "output_type": "execute_result"
    }
   ],
   "source": [
    "# Load the data\r\n",
    "file_path = Path('Resources/LoanStats_2019Q1.csv')\r\n",
    "df = pd.read_csv(file_path)\r\n",
    "\r\n",
    "# Preview the data\r\n",
    "df.head()"
   ]
  },
  {
   "cell_type": "code",
   "execution_count": 65,
   "metadata": {},
   "outputs": [
    {
     "data": {
      "text/plain": "loan_amnt                     float64\nint_rate                      float64\ninstallment                   float64\nhome_ownership                 object\nannual_inc                    float64\n                               ...   \ntotal_bal_ex_mort             float64\ntotal_bc_limit                float64\ntotal_il_high_credit_limit    float64\nhardship_flag                  object\ndebt_settlement_flag           object\nLength: 86, dtype: object"
     },
     "execution_count": 65,
     "metadata": {},
     "output_type": "execute_result"
    }
   ],
   "source": [
    "df.dtypes"
   ]
  },
  {
   "cell_type": "markdown",
   "metadata": {},
   "source": [
    "## Split the Data into Training and Testing"
   ]
  },
  {
   "cell_type": "code",
   "execution_count": 66,
   "metadata": {},
   "outputs": [],
   "source": [
    "# Create our features\r\n",
    "\r\n",
    "from sklearn.preprocessing import LabelEncoder\r\n",
    "le = LabelEncoder()\r\n",
    "for col in df.columns:\r\n",
    "    if df[col].dtype == \"object\":\r\n",
    "        le.fit(df[col])\r\n",
    "        df[col] = le.transform(df[col])\r\n",
    "\r\n",
    "X = df.copy()\r\n",
    "X.drop(\"loan_status\", axis=1, inplace=True)\r\n",
    "\r\n",
    "# Create our target\r\n",
    "y = df[\"loan_status\"]"
   ]
  },
  {
   "cell_type": "code",
   "execution_count": 67,
   "metadata": {},
   "outputs": [
    {
     "data": {
      "text/html": "<div>\n<style scoped>\n    .dataframe tbody tr th:only-of-type {\n        vertical-align: middle;\n    }\n\n    .dataframe tbody tr th {\n        vertical-align: top;\n    }\n\n    .dataframe thead th {\n        text-align: right;\n    }\n</style>\n<table border=\"1\" class=\"dataframe\">\n  <thead>\n    <tr style=\"text-align: right;\">\n      <th></th>\n      <th>loan_amnt</th>\n      <th>int_rate</th>\n      <th>installment</th>\n      <th>home_ownership</th>\n      <th>annual_inc</th>\n      <th>verification_status</th>\n      <th>issue_d</th>\n      <th>pymnt_plan</th>\n      <th>dti</th>\n      <th>delinq_2yrs</th>\n      <th>...</th>\n      <th>pct_tl_nvr_dlq</th>\n      <th>percent_bc_gt_75</th>\n      <th>pub_rec_bankruptcies</th>\n      <th>tax_liens</th>\n      <th>tot_hi_cred_lim</th>\n      <th>total_bal_ex_mort</th>\n      <th>total_bc_limit</th>\n      <th>total_il_high_credit_limit</th>\n      <th>hardship_flag</th>\n      <th>debt_settlement_flag</th>\n    </tr>\n  </thead>\n  <tbody>\n    <tr>\n      <th>count</th>\n      <td>68817.000000</td>\n      <td>68817.000000</td>\n      <td>68817.000000</td>\n      <td>68817.000000</td>\n      <td>6.881700e+04</td>\n      <td>68817.000000</td>\n      <td>68817.000000</td>\n      <td>68817.0</td>\n      <td>68817.000000</td>\n      <td>68817.000000</td>\n      <td>...</td>\n      <td>68817.000000</td>\n      <td>68817.000000</td>\n      <td>68817.000000</td>\n      <td>68817.0</td>\n      <td>6.881700e+04</td>\n      <td>6.881700e+04</td>\n      <td>68817.000000</td>\n      <td>6.881700e+04</td>\n      <td>68817.0</td>\n      <td>68817.0</td>\n    </tr>\n    <tr>\n      <th>mean</th>\n      <td>16677.594562</td>\n      <td>0.127718</td>\n      <td>480.652863</td>\n      <td>1.812779</td>\n      <td>8.821371e+04</td>\n      <td>0.669994</td>\n      <td>0.805542</td>\n      <td>0.0</td>\n      <td>21.778153</td>\n      <td>0.217766</td>\n      <td>...</td>\n      <td>95.057627</td>\n      <td>30.626217</td>\n      <td>0.125972</td>\n      <td>0.0</td>\n      <td>2.100332e+05</td>\n      <td>6.133843e+04</td>\n      <td>29734.128558</td>\n      <td>5.572240e+04</td>\n      <td>0.0</td>\n      <td>0.0</td>\n    </tr>\n    <tr>\n      <th>std</th>\n      <td>10277.348590</td>\n      <td>0.048130</td>\n      <td>288.062432</td>\n      <td>0.941313</td>\n      <td>1.155800e+05</td>\n      <td>0.719105</td>\n      <td>0.714932</td>\n      <td>0.0</td>\n      <td>20.199244</td>\n      <td>0.718367</td>\n      <td>...</td>\n      <td>8.326426</td>\n      <td>33.631463</td>\n      <td>0.336732</td>\n      <td>0.0</td>\n      <td>1.928088e+05</td>\n      <td>5.738798e+04</td>\n      <td>26795.394232</td>\n      <td>5.095845e+04</td>\n      <td>0.0</td>\n      <td>0.0</td>\n    </tr>\n    <tr>\n      <th>min</th>\n      <td>1000.000000</td>\n      <td>0.060000</td>\n      <td>30.890000</td>\n      <td>0.000000</td>\n      <td>4.000000e+01</td>\n      <td>0.000000</td>\n      <td>0.000000</td>\n      <td>0.0</td>\n      <td>0.000000</td>\n      <td>0.000000</td>\n      <td>...</td>\n      <td>20.000000</td>\n      <td>0.000000</td>\n      <td>0.000000</td>\n      <td>0.0</td>\n      <td>3.600000e+03</td>\n      <td>2.350000e+02</td>\n      <td>100.000000</td>\n      <td>1.270000e+02</td>\n      <td>0.0</td>\n      <td>0.0</td>\n    </tr>\n    <tr>\n      <th>25%</th>\n      <td>9000.000000</td>\n      <td>0.088100</td>\n      <td>265.730000</td>\n      <td>1.000000</td>\n      <td>5.000000e+04</td>\n      <td>0.000000</td>\n      <td>0.000000</td>\n      <td>0.0</td>\n      <td>13.890000</td>\n      <td>0.000000</td>\n      <td>...</td>\n      <td>93.000000</td>\n      <td>0.000000</td>\n      <td>0.000000</td>\n      <td>0.0</td>\n      <td>6.697700e+04</td>\n      <td>2.650300e+04</td>\n      <td>11600.000000</td>\n      <td>2.288000e+04</td>\n      <td>0.0</td>\n      <td>0.0</td>\n    </tr>\n    <tr>\n      <th>50%</th>\n      <td>15000.000000</td>\n      <td>0.118000</td>\n      <td>404.560000</td>\n      <td>1.000000</td>\n      <td>7.300000e+04</td>\n      <td>1.000000</td>\n      <td>1.000000</td>\n      <td>0.0</td>\n      <td>19.760000</td>\n      <td>0.000000</td>\n      <td>...</td>\n      <td>100.000000</td>\n      <td>20.000000</td>\n      <td>0.000000</td>\n      <td>0.0</td>\n      <td>1.467100e+05</td>\n      <td>4.535700e+04</td>\n      <td>22100.000000</td>\n      <td>4.200000e+04</td>\n      <td>0.0</td>\n      <td>0.0</td>\n    </tr>\n    <tr>\n      <th>75%</th>\n      <td>24000.000000</td>\n      <td>0.155700</td>\n      <td>648.100000</td>\n      <td>3.000000</td>\n      <td>1.040000e+05</td>\n      <td>1.000000</td>\n      <td>1.000000</td>\n      <td>0.0</td>\n      <td>26.660000</td>\n      <td>0.000000</td>\n      <td>...</td>\n      <td>100.000000</td>\n      <td>50.000000</td>\n      <td>0.000000</td>\n      <td>0.0</td>\n      <td>3.036400e+05</td>\n      <td>7.657000e+04</td>\n      <td>39300.000000</td>\n      <td>7.249900e+04</td>\n      <td>0.0</td>\n      <td>0.0</td>\n    </tr>\n    <tr>\n      <th>max</th>\n      <td>40000.000000</td>\n      <td>0.308400</td>\n      <td>1676.230000</td>\n      <td>3.000000</td>\n      <td>8.797500e+06</td>\n      <td>2.000000</td>\n      <td>2.000000</td>\n      <td>0.0</td>\n      <td>999.000000</td>\n      <td>18.000000</td>\n      <td>...</td>\n      <td>100.000000</td>\n      <td>100.000000</td>\n      <td>4.000000</td>\n      <td>0.0</td>\n      <td>3.292782e+06</td>\n      <td>1.295455e+06</td>\n      <td>509400.000000</td>\n      <td>1.426964e+06</td>\n      <td>0.0</td>\n      <td>0.0</td>\n    </tr>\n  </tbody>\n</table>\n<p>8 rows × 85 columns</p>\n</div>",
      "text/plain": "          loan_amnt      int_rate   installment  home_ownership    annual_inc  \\\ncount  68817.000000  68817.000000  68817.000000    68817.000000  6.881700e+04   \nmean   16677.594562      0.127718    480.652863        1.812779  8.821371e+04   \nstd    10277.348590      0.048130    288.062432        0.941313  1.155800e+05   \nmin     1000.000000      0.060000     30.890000        0.000000  4.000000e+01   \n25%     9000.000000      0.088100    265.730000        1.000000  5.000000e+04   \n50%    15000.000000      0.118000    404.560000        1.000000  7.300000e+04   \n75%    24000.000000      0.155700    648.100000        3.000000  1.040000e+05   \nmax    40000.000000      0.308400   1676.230000        3.000000  8.797500e+06   \n\n       verification_status       issue_d  pymnt_plan           dti  \\\ncount         68817.000000  68817.000000     68817.0  68817.000000   \nmean              0.669994      0.805542         0.0     21.778153   \nstd               0.719105      0.714932         0.0     20.199244   \nmin               0.000000      0.000000         0.0      0.000000   \n25%               0.000000      0.000000         0.0     13.890000   \n50%               1.000000      1.000000         0.0     19.760000   \n75%               1.000000      1.000000         0.0     26.660000   \nmax               2.000000      2.000000         0.0    999.000000   \n\n        delinq_2yrs  ...  pct_tl_nvr_dlq  percent_bc_gt_75  \\\ncount  68817.000000  ...    68817.000000      68817.000000   \nmean       0.217766  ...       95.057627         30.626217   \nstd        0.718367  ...        8.326426         33.631463   \nmin        0.000000  ...       20.000000          0.000000   \n25%        0.000000  ...       93.000000          0.000000   \n50%        0.000000  ...      100.000000         20.000000   \n75%        0.000000  ...      100.000000         50.000000   \nmax       18.000000  ...      100.000000        100.000000   \n\n       pub_rec_bankruptcies  tax_liens  tot_hi_cred_lim  total_bal_ex_mort  \\\ncount          68817.000000    68817.0     6.881700e+04       6.881700e+04   \nmean               0.125972        0.0     2.100332e+05       6.133843e+04   \nstd                0.336732        0.0     1.928088e+05       5.738798e+04   \nmin                0.000000        0.0     3.600000e+03       2.350000e+02   \n25%                0.000000        0.0     6.697700e+04       2.650300e+04   \n50%                0.000000        0.0     1.467100e+05       4.535700e+04   \n75%                0.000000        0.0     3.036400e+05       7.657000e+04   \nmax                4.000000        0.0     3.292782e+06       1.295455e+06   \n\n       total_bc_limit  total_il_high_credit_limit  hardship_flag  \\\ncount    68817.000000                6.881700e+04        68817.0   \nmean     29734.128558                5.572240e+04            0.0   \nstd      26795.394232                5.095845e+04            0.0   \nmin        100.000000                1.270000e+02            0.0   \n25%      11600.000000                2.288000e+04            0.0   \n50%      22100.000000                4.200000e+04            0.0   \n75%      39300.000000                7.249900e+04            0.0   \nmax     509400.000000                1.426964e+06            0.0   \n\n       debt_settlement_flag  \ncount               68817.0  \nmean                    0.0  \nstd                     0.0  \nmin                     0.0  \n25%                     0.0  \n50%                     0.0  \n75%                     0.0  \nmax                     0.0  \n\n[8 rows x 85 columns]"
     },
     "execution_count": 67,
     "metadata": {},
     "output_type": "execute_result"
    }
   ],
   "source": [
    "X.describe()"
   ]
  },
  {
   "cell_type": "code",
   "execution_count": 68,
   "metadata": {},
   "outputs": [
    {
     "data": {
      "text/plain": "1    68470\n0      347\nName: loan_status, dtype: int64"
     },
     "execution_count": 68,
     "metadata": {},
     "output_type": "execute_result"
    }
   ],
   "source": [
    "# Check the balance of our target values\r\n",
    "y.value_counts()"
   ]
  },
  {
   "cell_type": "code",
   "execution_count": 69,
   "metadata": {},
   "outputs": [],
   "source": [
    "# Split the X and y into X_train, X_test, y_train, y_test\r\n",
    "from sklearn.model_selection import train_test_split\r\n",
    "X_train, X_test, y_train, y_test = train_test_split(X, y)"
   ]
  },
  {
   "cell_type": "markdown",
   "metadata": {},
   "source": [
    "## Data Pre-Processing\n",
    "\n",
    "Scale the training and testing data using the `StandardScaler` from `sklearn`. Remember that when scaling the data, you only scale the features data (`X_train` and `X_testing`)."
   ]
  },
  {
   "cell_type": "code",
   "execution_count": 70,
   "metadata": {},
   "outputs": [],
   "source": [
    "# Create the StandardScaler instance\r\n",
    "from sklearn.preprocessing import StandardScaler\r\n",
    "scaler = StandardScaler()"
   ]
  },
  {
   "cell_type": "code",
   "execution_count": 71,
   "metadata": {},
   "outputs": [],
   "source": [
    "# Fit the Standard Scaler with the training data\r\n",
    "# When fitting scaling functions, only train on the training dataset\r\n",
    "X_scaler = scaler.fit(X_train)"
   ]
  },
  {
   "cell_type": "code",
   "execution_count": 72,
   "metadata": {},
   "outputs": [],
   "source": [
    "# Scale the training and testing data\r\n",
    "X_train_scaled = X_scaler.transform(X_train)\r\n",
    "X_test_scaled = X_scaler.transform(X_test)"
   ]
  },
  {
   "cell_type": "markdown",
   "metadata": {},
   "source": [
    "## Ensemble Learners\n",
    "\n",
    "In this section, you will compare two ensemble algorithms to determine which algorithm results in the best performance. You will train a Balanced Random Forest Classifier and an Easy Ensemble classifier . For each algorithm, be sure to complete the folliowing steps:\n",
    "\n",
    "1. Train the model using the training data. \n",
    "2. Calculate the balanced accuracy score from sklearn.metrics.\n",
    "3. Display the confusion matrix from sklearn.metrics.\n",
    "4. Generate a classication report using the `imbalanced_classification_report` from imbalanced-learn.\n",
    "5. For the Balanced Random Forest Classifier only, print the feature importance sorted in descending order (most important feature to least important) along with the feature score\n",
    "\n",
    "Note: Use a random state of 1 for each algorithm to ensure consistency between tests"
   ]
  },
  {
   "cell_type": "markdown",
   "metadata": {},
   "source": [
    "### Balanced Random Forest Classifier"
   ]
  },
  {
   "cell_type": "code",
   "execution_count": 73,
   "metadata": {},
   "outputs": [
    {
     "data": {
      "text/plain": "BalancedRandomForestClassifier(random_state=1)"
     },
     "execution_count": 73,
     "metadata": {},
     "output_type": "execute_result"
    }
   ],
   "source": [
    "# Resample the training data with the BalancedRandomForestClassifier\r\n",
    "\r\n",
    "from imblearn.ensemble import BalancedRandomForestClassifier\r\n",
    "brf_model = BalancedRandomForestClassifier(n_estimators=100, random_state=1)\r\n",
    "brf_model.fit(X_train_scaled, y_train)"
   ]
  },
  {
   "cell_type": "code",
   "execution_count": 74,
   "metadata": {},
   "outputs": [
    {
     "data": {
      "text/plain": "0.7196572563815756"
     },
     "execution_count": 74,
     "metadata": {},
     "output_type": "execute_result"
    }
   ],
   "source": [
    "# Calculated the balanced accuracy score\r\n",
    "from sklearn.metrics import balanced_accuracy_score\r\n",
    "y_pred = brf_model.predict(X_test_scaled)\r\n",
    "balanced_accuracy_score(y_test, y_pred)"
   ]
  },
  {
   "cell_type": "code",
   "execution_count": 75,
   "metadata": {},
   "outputs": [
    {
     "data": {
      "text/plain": "array([[   52,    39],\n       [ 2261, 14853]], dtype=int64)"
     },
     "execution_count": 75,
     "metadata": {},
     "output_type": "execute_result"
    }
   ],
   "source": [
    "# Display the confusion matrix\r\n",
    "from sklearn.metrics import confusion_matrix\r\n",
    "confusion_matrix(y_test, y_pred)"
   ]
  },
  {
   "cell_type": "code",
   "execution_count": 76,
   "metadata": {},
   "outputs": [
    {
     "name": "stdout",
     "output_type": "stream",
     "text": [
      "                   pre       rec       spe        f1       geo       iba       sup\n",
      "\n",
      "          0       0.02      0.57      0.87      0.04      0.70      0.48        91\n",
      "          1       1.00      0.87      0.57      0.93      0.70      0.51     17114\n",
      "\n",
      "avg / total       0.99      0.87      0.57      0.92      0.70      0.51     17205\n",
      "\n"
     ]
    }
   ],
   "source": [
    "# Print the imbalanced classification report\r\n",
    "from imblearn.metrics import classification_report_imbalanced\r\n",
    "print(classification_report_imbalanced(y_test, y_pred))"
   ]
  },
  {
   "cell_type": "code",
   "execution_count": 77,
   "metadata": {},
   "outputs": [
    {
     "data": {
      "text/plain": "[(0.08799578668503874, 'total_rec_prncp'),\n (0.07370200185744033, 'last_pymnt_amnt'),\n (0.05950101213315695, 'total_pymnt'),\n (0.056033611204412206, 'total_pymnt_inv'),\n (0.04847170898886172, 'total_rec_int'),\n (0.035892429850923974, 'int_rate'),\n (0.020157212203473676, 'issue_d'),\n (0.018264192529956258, 'mths_since_recent_inq'),\n (0.017409394179458467, 'max_bal_bc'),\n (0.016721007595503698, 'annual_inc'),\n (0.016457518429696085, 'installment'),\n (0.016414862280976876, 'dti'),\n (0.01592497925932251, 'bc_util'),\n (0.015485172679991008, 'mo_sin_old_il_acct'),\n (0.01538348849221279, 'total_bc_limit'),\n (0.015074071920522689, 'tot_cur_bal'),\n (0.014824437571896313, 'revol_bal'),\n (0.014598749367616478, 'out_prncp'),\n (0.014583159847643221, 'total_bal_il'),\n (0.014529097886392695, 'total_rev_hi_lim'),\n (0.014427638818094092, 'bc_open_to_buy'),\n (0.014295209347921044, 'all_util'),\n (0.01424196232928969, 'mo_sin_old_rev_tl_op'),\n (0.013747420372692404, 'total_bal_ex_mort'),\n (0.013737316248042636, 'mths_since_recent_bc'),\n (0.013486355509906166, 'il_util'),\n (0.01336045151486753, 'tot_hi_cred_lim'),\n (0.01301954450189338, 'out_prncp_inv'),\n (0.012741847168545784, 'total_il_high_credit_limit'),\n (0.012233990374093255, 'mths_since_rcnt_il'),\n (0.011735060432861441, 'num_bc_tl'),\n (0.011086965252924496, 'num_il_tl'),\n (0.01107360482465085, 'mo_sin_rcnt_rev_tl_op'),\n (0.01104035143323725, 'avg_cur_bal'),\n (0.011019235244288798, 'loan_amnt'),\n (0.010706149195525308, 'inq_last_12m'),\n (0.010666879202372982, 'num_rev_accts'),\n (0.01065022051844295, 'total_acc'),\n (0.010055237326730943, 'open_acc'),\n (0.01003701650051186, 'num_rev_tl_bal_gt_0'),\n (0.00989526107954461, 'num_sats'),\n (0.00925818472550621, 'mo_sin_rcnt_tl'),\n (0.008815244838965508, 'acc_open_past_24mths'),\n (0.007831601650230594, 'pct_tl_nvr_dlq'),\n (0.007635578911746983, 'num_tl_op_past_12m'),\n (0.007420504345158213, 'num_op_rev_tl'),\n (0.007399157010030491, 'inq_fi'),\n (0.007342792297704052, 'num_actv_rev_tl'),\n (0.007202509570234722, 'total_rec_late_fee'),\n (0.006646687138476386, 'num_bc_sats'),\n (0.006538671099748813, 'percent_bc_gt_75'),\n (0.006529782316563522, 'num_actv_bc_tl'),\n (0.0064640466978475265, 'mort_acc'),\n (0.006454353107669282, 'verification_status'),\n (0.00619972463205552, 'total_cu_tl'),\n (0.006027756579596308, 'open_rv_24m'),\n (0.005809065075086543, 'open_il_24m'),\n (0.005391252936578007, 'open_act_il'),\n (0.005265349739918631, 'next_pymnt_d'),\n (0.004150822669806758, 'open_acc_6m'),\n (0.004075982213122526, 'open_il_12m'),\n (0.004010426668345825, 'open_rv_12m'),\n (0.0038241335303829276, 'num_accts_ever_120_pd'),\n (0.0036468184927339557, 'inq_last_6mths'),\n (0.0032039026437949347, 'tot_coll_amt'),\n (0.00238307614522313, 'pub_rec'),\n (0.0022426243208811623, 'delinq_2yrs'),\n (0.002052790335711802, 'application_type'),\n (0.0018093379502116852, 'initial_list_status'),\n (0.0014076545832298823, 'pub_rec_bankruptcies'),\n (0.0013372414709423746, 'home_ownership'),\n (0.0005046920008034138, 'num_tl_90g_dpd_24m'),\n (0.00024043067488035345, 'collections_12_mths_ex_med'),\n (0.00019619146587791648, 'chargeoff_within_12_mths'),\n (0.0, 'tax_liens'),\n (0.0, 'recoveries'),\n (0.0, 'pymnt_plan'),\n (0.0, 'policy_code'),\n (0.0, 'num_tl_30dpd'),\n (0.0, 'num_tl_120dpd_2m'),\n (0.0, 'hardship_flag'),\n (0.0, 'delinq_amnt'),\n (0.0, 'debt_settlement_flag'),\n (0.0, 'collection_recovery_fee'),\n (0.0, 'acc_now_delinq')]"
     },
     "execution_count": 77,
     "metadata": {},
     "output_type": "execute_result"
    }
   ],
   "source": [
    "# List the features sorted in descending order by feature importance\r\n",
    "importances = brf_model.feature_importances_\r\n",
    "sorted(zip(importances, X.columns), reverse=True)"
   ]
  },
  {
   "cell_type": "markdown",
   "metadata": {},
   "source": [
    "### Easy Ensemble Classifier"
   ]
  },
  {
   "cell_type": "code",
   "execution_count": 82,
   "metadata": {},
   "outputs": [
    {
     "data": {
      "text/plain": "EasyEnsembleClassifier(n_estimators=100, random_state=1)"
     },
     "execution_count": 82,
     "metadata": {},
     "output_type": "execute_result"
    }
   ],
   "source": [
    "# Train the Classifier\r\n",
    "from imblearn.ensemble import EasyEnsembleClassifier\r\n",
    "eec_model = EasyEnsembleClassifier(n_estimators=100, random_state=1)\r\n",
    "eec_model.fit(X_train_scaled, y_train)"
   ]
  },
  {
   "cell_type": "code",
   "execution_count": 83,
   "metadata": {},
   "outputs": [
    {
     "data": {
      "text/plain": "0.8923983577483636"
     },
     "execution_count": 83,
     "metadata": {},
     "output_type": "execute_result"
    }
   ],
   "source": [
    "# Calculated the balanced accuracy score\r\n",
    "y_eec_pred = eec_model.predict(X_test_scaled)\r\n",
    "balanced_accuracy_score(y_test, y_eec_pred)"
   ]
  },
  {
   "cell_type": "code",
   "execution_count": 84,
   "metadata": {},
   "outputs": [
    {
     "data": {
      "text/plain": "array([[   76,    15],\n       [  862, 16252]], dtype=int64)"
     },
     "execution_count": 84,
     "metadata": {},
     "output_type": "execute_result"
    }
   ],
   "source": [
    "# Display the confusion matrix\r\n",
    "confusion_matrix(y_test, y_eec_pred)"
   ]
  },
  {
   "cell_type": "code",
   "execution_count": 85,
   "metadata": {},
   "outputs": [
    {
     "name": "stdout",
     "output_type": "stream",
     "text": [
      "                   pre       rec       spe        f1       geo       iba       sup\n",
      "\n",
      "          0       0.08      0.84      0.95      0.15      0.89      0.78        91\n",
      "          1       1.00      0.95      0.84      0.97      0.89      0.80     17114\n",
      "\n",
      "avg / total       0.99      0.95      0.84      0.97      0.89      0.80     17205\n",
      "\n"
     ]
    }
   ],
   "source": [
    "# Print the imbalanced classification report\r\n",
    "print(classification_report_imbalanced(y_test, y_eec_pred))"
   ]
  },
  {
   "cell_type": "markdown",
   "metadata": {},
   "source": [
    "### Final Questions\r\n",
    "\r\n",
    "1. Which model had the best balanced accuracy score?\r\n",
    "\r\n",
    "    The Easy Ensemble had the best balanced accuracy score of 0.892 vs 0.719  \r\n",
    "      \r\n",
    "      \r\n",
    "\r\n",
    "2. Which model had the best recall score?\r\n",
    "\r\n",
    "    The Easy Ensemble had the best recall scores of 0.84/0.95 with an average of 0.95   \r\n",
    "      \r\n",
    "    \r\n",
    "3. Which model had the best geometric mean score?\r\n",
    "\r\n",
    "    The Easy Ensemble had the best geometric mean scores of 0.89/0.89 with an average of 0.89  \r\n",
    "      \r\n",
    "\r\n",
    "4. What are the top three features?\r\n",
    "\r\n",
    "    Top 3 features are:\r\n",
    "    * total_rec_prncp\r\n",
    "    * last_pymnt_amnt\r\n",
    "    * total_pymnt"
   ]
  },
  {
   "cell_type": "code",
   "execution_count": null,
   "metadata": {},
   "outputs": [],
   "source": []
  }
 ],
 "metadata": {
  "kernelspec": {
   "display_name": "Python 3.7.9 64-bit ('dev': conda)",
   "name": "python379jvsc74a57bd0c5f3348871554a27f8da824ee5dec5aec4b2418407e6f994b7493a67ac6ec42d"
  },
  "language_info": {
   "codemirror_mode": {
    "name": "ipython",
    "version": 3
   },
   "file_extension": ".py",
   "mimetype": "text/x-python",
   "name": "python",
   "nbconvert_exporter": "python",
   "pygments_lexer": "ipython3",
   "version": "3.7.9"
  }
 },
 "nbformat": 4,
 "nbformat_minor": 4
}